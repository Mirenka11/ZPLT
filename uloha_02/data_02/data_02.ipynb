{
 "cells": [
  {
   "cell_type": "markdown",
   "metadata": {},
   "source": [
    "Požadované výsledky:\n",
    "1.  Do správně popsaného grafu vynést naměřené závislosti absorpce (v relativních jednotkách) Nd:YAG\n",
    "        krystalu na teplotě laserové diody pro zvolený budící proud. \n",
    "    Jednotlivým píkům přiřadit absolutní vlnové délky.\n",
    "\n",
    "2.  Doba života na elektronové hladině 4 F_3/2 neodymu.\n",
    "\n",
    "3.  Graf závislosti teploty diody na proudu diodou při konstantní vyzařované vlnové délce.\n",
    "\n",
    "4.  Graf závislosti výstupního výkonu laserové diody na proudu diodou při konstantní vyzařované vlnové délce.\n",
    "\n",
    "5.  Graf závislosti výstupní energie Nd:YAG laseru v závislosti na energii buzení \n",
    "        (ne na teplotě nebo proudu) s vyznačením prahu laserové generace.\n",
    "\n",
    "5.  Okomentovaný nákres jemné struktury obálky časového průběhu generovaného laserového záření\n",
    "        v blízkosti prahu. "
   ]
  },
  {
   "cell_type": "code",
   "execution_count": null,
   "metadata": {},
   "outputs": [],
   "source": [
    "import pandas as pd\n",
    "import numpy as np\n",
    "from scipy import signal, optimize\n",
    "import matplotlib.pyplot as plt\n",
    "from typing import Iterable\n",
    "from pomocne_funkce.uprava_vystupu import zaokrouhleni\n"
   ]
  },
  {
   "cell_type": "code",
   "execution_count": 132,
   "metadata": {},
   "outputs": [],
   "source": [
    "# Nacitani dat\n",
    "ukol_1 = pd.read_excel(\"data_02.xlsx\", sheet_name=\"teplota_absorpce\", engine=\"openpyxl\", usecols=\"A, B\", nrows=31)\n",
    "ukol_2 = pd.read_excel(\"data_02.xlsx\", sheet_name=\"doba_zivota\", engine=\"openpyxl\", usecols=\"A, B\", nrows=11)\n",
    "ukol_3 = pd.read_excel(\"data_02.xlsx\", sheet_name=\"teplota_proud\", engine=\"openpyxl\", usecols=\"A, B\", nrows=11)\n",
    "ukol_4 = pd.read_excel(\"data_02.xlsx\", sheet_name=\"teplota_proud\", engine=\"openpyxl\", usecols=\"A, C\", nrows=11)\n",
    "ukol_5 = pd.read_excel(\"data_02.xlsx\", sheet_name=\"teplota_proud\", engine=\"openpyxl\", usecols=\"C, D\", nrows=9)"
   ]
  },
  {
   "cell_type": "code",
   "execution_count": 133,
   "metadata": {},
   "outputs": [],
   "source": [
    "def normalize(data:Iterable)->Iterable:\n",
    "    minimum = np.min(data)\n",
    "    maximum = np.max(data)\n",
    "    normalized_data = (data-minimum)/(maximum-minimum)\n",
    "    return normalized_data\n",
    "\n",
    "def exponenciala(x, a, b, c):\n",
    "    return a*np.exp(b*x)+c\n",
    "\n",
    "def linear_fit(x, a, b): \n",
    "    \"\"\"Lineárni funkce y = a*x + b\n",
    "    Args:\n",
    "        x (int / float): bod vycislovani (namerena hodnota)\n",
    "        a (int / float): koeficient\n",
    "        b (int / float): konstanta\n",
    "    Returns:\n",
    "        float: hodnota linearni funkce s predpisem y = a*x + b v bode x\n",
    "    \"\"\"\n",
    "    return a*x + b\n",
    "\n"
   ]
  },
  {
   "cell_type": "markdown",
   "metadata": {},
   "source": [
    "1.  Do správně popsaného grafu vynést naměřené závislosti absorpce (v relativních jednotkách) Nd:YAG krystalu na teplotě laserové diody pro zvolený budící proud. \n",
    "    \n",
    "    Jednotlivým píkům přiřadit absolutní vlnové délky."
   ]
  },
  {
   "cell_type": "code",
   "execution_count": null,
   "metadata": {},
   "outputs": [],
   "source": [
    "budici_proud = 766 # mA \n",
    "absorpce = 1-normalize(ukol_1[\"U [mV]\"])\n",
    "\n",
    "peak_absorpce, _ = signal.find_peaks(absorpce)\n",
    "print(peak_absorpce)\n",
    "for n, p in enumerate(peak_absorpce):\n",
    "    print(f\"Teplota {n}: { float(ukol_1[\"Teplota [˚C]\"].iloc[[p]])}\".replace(\".\", \",\"))\n",
    "\n",
    "fig_ukol1 = plt.figure(figsize = (10, 6))\n",
    "plt.scatter(ukol_1[\"Teplota [˚C]\"], absorpce,\n",
    "            color=\"seagreen\", \n",
    "            marker=\"X\", s=20, alpha=0.7,\n",
    "            label=\"naměřené hodnoty\")\n",
    "for p in peak_absorpce:\n",
    "    plt.scatter(ukol_1[\"Teplota [˚C]\"].iloc[[p]], absorpce[p],\n",
    "                color=\"darkviolet\", \n",
    "                marker=\"x\", s=150, alpha=1)\n",
    "lgnd = plt.legend(scatterpoints=1, fontsize=10)\n",
    "for handle in lgnd.legend_handles:\n",
    "    handle.set_sizes([15])\n",
    "    handle.set_alpha(1)\n",
    "plt.xlabel('$T~\\\\mathrm{[˚C]}$ ', fontsize = 10)\n",
    "plt.ylabel(\"$A~\\\\mathrm{[-]}$\", fontsize = 10)\n",
    "plt.savefig(\"./img/peaky_absorpce.pdf\")\n",
    "plt.show()\n"
   ]
  },
  {
   "cell_type": "markdown",
   "metadata": {},
   "source": [
    "2.  Doba života na elektronové hladině 4 F_3/2 neodymu."
   ]
  },
  {
   "cell_type": "code",
   "execution_count": null,
   "metadata": {},
   "outputs": [],
   "source": [
    "fitovane_parametry_exp, kovariance_parametru_exp = optimize.curve_fit(exponenciala, \n",
    "                                                                      xdata=ukol_2[\"T [\\\\mu s]\"], \n",
    "                                                                      ydata=ukol_2[\"U [mV]\"], \n",
    "                                                                      p0 = [40,-0.002,0]) # ocekavane parametry\n",
    "\n",
    "sigma_parametru_exp = np.sqrt(np.diag(kovariance_parametru_exp)) # tohle vypocita presnost, s jakou byly parametry urceny\n",
    "zaokrouhlene_parametry_exp = []\n",
    "for j in range(len(fitovane_parametry_exp)): # zaokrouhleni na jednu platnou cifru\n",
    "    zaokrouhlene_parametry_exp.append(zaokrouhleni(fitovane_parametry_exp[j], \n",
    "                                                         reference=sigma_parametru_exp[j]))\n",
    "\n",
    "print(\n",
    "    f\"exponencialni fit: U=({zaokrouhlene_parametry_exp[0][0]}\\\\pm {zaokrouhlene_parametry_exp[0][1]})\\\\cdot e^{{({zaokrouhlene_parametry_exp[1][0]}\\\\pm {zaokrouhlene_parametry_exp[1][1]})t}}+({zaokrouhlene_parametry_exp[2][0]}\\\\pm {zaokrouhlene_parametry_exp[2][1]})\".replace(\".\", \",\"))\n",
    "\n",
    "\n",
    "t_axis = np.arange(0, np.max(ukol_2[\"T [\\\\mu s]\"]))\n",
    "fig_ukol2 = plt.figure(figsize = (10, 6))\n",
    "plt.scatter(ukol_2[\"T [\\\\mu s]\"], ukol_2[\"U [mV]\"],\n",
    "            color=\"seagreen\", \n",
    "            marker=\"X\", s=20, alpha=1,\n",
    "            label=\"naměřené hodnoty\")\n",
    "\n",
    "plt.plot(t_axis, exponenciala(t_axis, fitovane_parametry_exp[0], fitovane_parametry_exp[1], fitovane_parametry_exp[2]),\n",
    "         color = \"darkviolet\", \n",
    "         label = \"exponenciální fit $U=(38.4\\\\pm 0.5)\\\\cdot e^{{(-0.0038\\\\pm 0.0001)t}}+(4.7\\\\pm 0.5)$\".replace(\".\", \",\"))\n",
    "lgnd = plt.legend(scatterpoints=1, fontsize=10)\n",
    "\n",
    "plt.xlabel('$t~\\\\mathrm{[\\\\mu s]}$ ', fontsize = 10)\n",
    "plt.ylabel(\"$U~\\\\mathrm{[mV]}$\", fontsize = 10)\n",
    "plt.savefig(\"./img/doba_zivota.pdf\")\n",
    "plt.show()\n"
   ]
  },
  {
   "cell_type": "markdown",
   "metadata": {},
   "source": [
    "3.  Graf závislosti teploty diody na proudu diodou při konstantní vyzařované vlnové délce.\n"
   ]
  },
  {
   "cell_type": "code",
   "execution_count": null,
   "metadata": {},
   "outputs": [],
   "source": [
    "\n",
    "fitovane_parametry_lin, kovariance_parametru_lin = optimize.curve_fit(linear_fit, \n",
    "                                                                      xdata=ukol_3[\"I [mA]\"], \n",
    "                                                                      ydata=ukol_3[\"T [˚C]\"], \n",
    "                                                                      p0 = [-0.02, 30]) # ocekavane parametry\n",
    "\n",
    "sigma_parametru_lin = np.sqrt(np.diag(kovariance_parametru_lin)) # tohle vypocita presnost, s jakou byly parametry urceny\n",
    "zaokrouhlene_parametry_lin = []\n",
    "for j in range(len(fitovane_parametry_lin)): # zaokrouhleni na jednu platnou cifru\n",
    "    zaokrouhlene_parametry_lin.append(zaokrouhleni(fitovane_parametry_lin[j], \n",
    "                                                         reference=sigma_parametru_lin[j]))\n",
    "\n",
    "print(\n",
    "    f\"linearni fit: T=({zaokrouhlene_parametry_lin[0][0]}\\\\pm {zaokrouhlene_parametry_lin[0][1]})I+({zaokrouhlene_parametry_lin[1][0]}\\\\pm {zaokrouhlene_parametry_lin[1][1]})\".replace(\".\", \",\"))\n",
    "\n",
    "I_axis = np.arange(np.min(ukol_3[\"I [mA]\"]), np.max(ukol_3[\"I [mA]\"]))\n",
    "fig_ukol3 = plt.figure(figsize = (10, 6))\n",
    "plt.scatter(ukol_3[\"I [mA]\"], ukol_3[\"T [˚C]\"],\n",
    "            color=\"forestgreen\", \n",
    "            marker=\"X\", s=20, alpha=1,\n",
    "            label=\"naměřené hodnoty\")\n",
    "\n",
    "plt.plot(I_axis, linear_fit(I_axis, fitovane_parametry_lin[0], fitovane_parametry_lin[1]),\n",
    "         color = \"darkviolet\", \n",
    "         label = \"lineární fit $T=(-0,0209\\\\pm 0,0003)I + (28,1\\\\pm 0,2)$\".replace(\".\", \",\"))\n",
    "lgnd = plt.legend(scatterpoints=1, fontsize=10)\n",
    "\n",
    "plt.xlabel('$I~\\\\mathrm{[mA]}$ ', fontsize = 10)\n",
    "plt.ylabel(\"$T~\\\\mathrm{[˚C]}$\", fontsize = 10)\n",
    "plt.savefig(\"./img/zavislost_teploty_na_proudu.pdf\")\n",
    "plt.show()"
   ]
  },
  {
   "cell_type": "markdown",
   "metadata": {},
   "source": [
    "4.  Graf závislosti výstupního výkonu laserové diody na proudu diodou při konstantní vyzařované vlnové délce.\n"
   ]
  },
  {
   "cell_type": "code",
   "execution_count": null,
   "metadata": {},
   "outputs": [],
   "source": [
    "fitovane_parametry_lin, kovariance_parametru_lin = optimize.curve_fit(linear_fit, \n",
    "                                                                      xdata=ukol_4[\"I [mA]\"], \n",
    "                                                                      ydata=ukol_4[\"U_dioda [mV]\"], \n",
    "                                                                      p0 = [0.5, -100]) # ocekavane parametry\n",
    "\n",
    "sigma_parametru_lin = np.sqrt(np.diag(kovariance_parametru_lin)) # tohle vypocita presnost, s jakou byly parametry urceny\n",
    "zaokrouhlene_parametry_lin = []\n",
    "for j in range(len(fitovane_parametry_lin)): # zaokrouhleni na jednu platnou cifru\n",
    "    zaokrouhlene_parametry_lin.append(zaokrouhleni(fitovane_parametry_lin[j], \n",
    "                                                         reference=sigma_parametru_lin[j]))\n",
    "\n",
    "print(\n",
    "    f\"linearni fit: U_\\\\mathrm{{dioda}}=({zaokrouhlene_parametry_lin[0][0]}\\\\pm {zaokrouhlene_parametry_lin[0][1]})I+({zaokrouhlene_parametry_lin[1][0]}\\\\pm {zaokrouhlene_parametry_lin[1][1]})\".replace(\".\", \",\"))\n",
    "\n",
    "I_axis = np.arange(np.min(ukol_4[\"I [mA]\"]), np.max(ukol_4[\"I [mA]\"]))\n",
    "fig_ukol3 = plt.figure(figsize = (10, 6))\n",
    "plt.scatter(ukol_4[\"I [mA]\"], ukol_4[\"U_dioda [mV]\"],\n",
    "            color=\"forestgreen\", \n",
    "            marker=\"X\", s=20, alpha=1,\n",
    "            label=\"naměřené hodnoty\")\n",
    "\n",
    "plt.plot(I_axis, linear_fit(I_axis, fitovane_parametry_lin[0], fitovane_parametry_lin[1]),\n",
    "         color = \"darkviolet\", \n",
    "         label = \"lineární fit $U=(0,58\\\\pm 0,02)I + (-170\\\\pm 10)$\".replace(\".\", \",\"))\n",
    "lgnd = plt.legend(scatterpoints=1, fontsize=10)\n",
    "\n",
    "plt.xlabel('$I~\\\\mathrm{[mA]}$ ', fontsize = 10)\n",
    "plt.ylabel(\"$U_\\\\mathrm{{dioda}}~\\\\mathrm{[mV]}$\", fontsize = 10)\n",
    "plt.savefig(\"./img/zavislost_vykonu_na_proudu.pdf\")\n",
    "plt.show()"
   ]
  },
  {
   "cell_type": "markdown",
   "metadata": {},
   "source": [
    "5.  Graf závislosti výstupní energie Nd:YAG laseru v závislosti na energii buzení \n",
    "        (ne na teplotě nebo proudu) s vyznačením prahu laserové generace."
   ]
  },
  {
   "cell_type": "code",
   "execution_count": null,
   "metadata": {},
   "outputs": [],
   "source": [
    "fitovane_parametry_lin, kovariance_parametru_lin = optimize.curve_fit(linear_fit, \n",
    "                                                                      xdata=ukol_5[\"U_dioda [mV]\"], \n",
    "                                                                      ydata=ukol_5[\"U_las [mV]\"], \n",
    "                                                                      p0 = [0.5, -10]) # ocekavane parametry\n",
    "\n",
    "sigma_parametru_lin = np.sqrt(np.diag(kovariance_parametru_lin)) # tohle vypocita presnost, s jakou byly parametry urceny\n",
    "zaokrouhlene_parametry_lin = []\n",
    "for j in range(len(fitovane_parametry_lin)): # zaokrouhleni na jednu platnou cifru\n",
    "    zaokrouhlene_parametry_lin.append(zaokrouhleni(fitovane_parametry_lin[j], \n",
    "                                                         reference=sigma_parametru_lin[j]))\n",
    "\n",
    "print(\n",
    "    f\"linearni fit: U_\\\\mathrm{{las}}=({zaokrouhlene_parametry_lin[0][0]}\\\\pm {zaokrouhlene_parametry_lin[0][1]})U_\\\\mathrm{{dioda}}+({zaokrouhlene_parametry_lin[1][0]}\\\\pm {zaokrouhlene_parametry_lin[1][1]})\".replace(\".\", \",\"))\n",
    "\n",
    "U_axis = np.arange(np.min(ukol_5[\"U_dioda [mV]\"]), np.max(ukol_5[\"U_dioda [mV]\"]))\n",
    "fig_ukol3 = plt.figure(figsize = (10, 6))\n",
    "plt.scatter(ukol_5[\"U_dioda [mV]\"], ukol_5[\"U_las [mV]\"],\n",
    "            color=\"forestgreen\", \n",
    "            marker=\"X\", s=20, alpha=1,\n",
    "            label=\"naměřené hodnoty\")\n",
    "\n",
    "plt.plot(U_axis, linear_fit(U_axis, fitovane_parametry_lin[0], fitovane_parametry_lin[1]),\n",
    "         color = \"darkviolet\", \n",
    "         label = \"lineární fit $U_\\\\mathrm{{las}}=(0,64\\\\pm 0,02)U_\\\\mathrm{{dioda}} + (-12\\\\pm 2)$\".replace(\".\", \",\"))\n",
    "lgnd = plt.legend(scatterpoints=1, fontsize=10)\n",
    "\n",
    "plt.xlabel('$U_\\\\mathrm{{dioda}}~\\\\mathrm{[mA]}$ ', fontsize = 10)\n",
    "plt.ylabel(\"$U_\\\\mathrm{{las}}~\\\\mathrm{[mV]}$\", fontsize = 10)\n",
    "plt.savefig(\"./img/zavislost_las_na_diode.pdf\")\n",
    "plt.show()"
   ]
  }
 ],
 "metadata": {
  "kernelspec": {
   "display_name": ".venv",
   "language": "python",
   "name": "python3"
  },
  "language_info": {
   "codemirror_mode": {
    "name": "ipython",
    "version": 3
   },
   "file_extension": ".py",
   "mimetype": "text/x-python",
   "name": "python",
   "nbconvert_exporter": "python",
   "pygments_lexer": "ipython3",
   "version": "3.12.3"
  }
 },
 "nbformat": 4,
 "nbformat_minor": 2
}
